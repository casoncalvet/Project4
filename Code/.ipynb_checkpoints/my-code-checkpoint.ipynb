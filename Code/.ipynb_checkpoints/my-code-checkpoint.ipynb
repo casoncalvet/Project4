{
 "cells": [
  {
   "cell_type": "code",
   "execution_count": null,
   "metadata": {},
   "outputs": [],
   "source": []
  }
 ],
 "metadata": {
  "kernelspec": {
   "display_name": "Python 3.7.13 ('Ironhack')",
   "language": "python",
   "name": "python3"
  },
  "language_info": {
   "name": "python",
   "version": "3.7.13"
  },
  "vscode": {
   "interpreter": {
    "hash": "8f77f39cffaf51f2b2802b2dac76b0d1d011dfef66dbc1cee8e33257ce935d91"
   }
  }
 },
 "nbformat": 4,
 "nbformat_minor": 5
}
